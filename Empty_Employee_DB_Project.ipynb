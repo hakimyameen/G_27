{
  "cells": [
    {
      "cell_type": "markdown",
      "metadata": {
        "id": "UKyqxZpBQ4IM"
      },
      "source": [
        "# SF Salaries Exercise\n",
        "\n"
      ]
    },
    {
      "cell_type": "markdown",
      "metadata": {
        "id": "zf49LJaOQ4IR"
      },
      "source": [
        "# **Load Necessary libraries**"
      ]
    },
    {
      "cell_type": "code",
      "execution_count": null,
      "metadata": {
        "id": "AxmZTYDvQ4IS"
      },
      "outputs": [],
      "source": []
    },
    {
      "cell_type": "markdown",
      "metadata": {
        "id": "Fp4b1VQVQ4IT"
      },
      "source": [
        "# ** Read Salaries.csv as a dataframe called sal.**"
      ]
    },
    {
      "cell_type": "code",
      "execution_count": null,
      "metadata": {
        "id": "_OBreJ3CQ4IU"
      },
      "outputs": [],
      "source": []
    },
    {
      "cell_type": "markdown",
      "metadata": {
        "id": "zIXUhFzuQ4IU"
      },
      "source": [
        "# ** Check the head of the DataFrame. **"
      ]
    },
    {
      "cell_type": "code",
      "execution_count": null,
      "metadata": {
        "id": "fJgSOAaLQ4IU"
      },
      "outputs": [],
      "source": []
    },
    {
      "cell_type": "code",
      "execution_count": null,
      "metadata": {
        "scrolled": true,
        "id": "MSpxoVvzQ4IV"
      },
      "outputs": [],
      "source": [
        "# Check nan values\n"
      ]
    },
    {
      "cell_type": "code",
      "execution_count": null,
      "metadata": {
        "id": "LQ0Rl_vdQ4IW"
      },
      "outputs": [],
      "source": [
        "#total reords , rows and columns\n"
      ]
    },
    {
      "cell_type": "code",
      "execution_count": null,
      "metadata": {
        "id": "f1o8dtzjQ4IX"
      },
      "outputs": [],
      "source": [
        "#check feature names\n"
      ]
    },
    {
      "cell_type": "code",
      "execution_count": null,
      "metadata": {
        "id": "w0QqFoA-Q4IX"
      },
      "outputs": [],
      "source": [
        "#drop Notes and Status columns\n"
      ]
    },
    {
      "cell_type": "code",
      "execution_count": null,
      "metadata": {
        "scrolled": true,
        "id": "yKSX_zrAQ4IX"
      },
      "outputs": [],
      "source": [
        "#check new shape\n"
      ]
    },
    {
      "cell_type": "code",
      "execution_count": null,
      "metadata": {
        "scrolled": true,
        "id": "Xu1rqJHcQ4IY"
      },
      "outputs": [],
      "source": [
        "#check columns\n"
      ]
    },
    {
      "cell_type": "code",
      "execution_count": null,
      "metadata": {
        "scrolled": true,
        "id": "AtkeEnvkQ4IY"
      },
      "outputs": [],
      "source": [
        "#fill BasePay NaN by using some technique\n"
      ]
    },
    {
      "cell_type": "markdown",
      "metadata": {
        "id": "KrvPXdF5Q4IZ"
      },
      "source": [
        "# **What is the average BasePay ?**"
      ]
    },
    {
      "cell_type": "code",
      "execution_count": null,
      "metadata": {
        "scrolled": false,
        "id": "eTSNo6GRQ4IZ"
      },
      "outputs": [],
      "source": []
    },
    {
      "cell_type": "markdown",
      "metadata": {
        "id": "W8DcMiO1Q4IZ"
      },
      "source": [
        "# ** What is the highest amount of OvertimePay in the dataset ? **"
      ]
    },
    {
      "cell_type": "code",
      "execution_count": null,
      "metadata": {
        "id": "xuqq35AWQ4IZ"
      },
      "outputs": [],
      "source": []
    },
    {
      "cell_type": "markdown",
      "metadata": {
        "id": "NJ9etD_KQ4Ia"
      },
      "source": [
        "## Fetch record of Highest paid employee"
      ]
    },
    {
      "cell_type": "code",
      "execution_count": null,
      "metadata": {
        "scrolled": false,
        "id": "h64V7RMrQ4Ia"
      },
      "outputs": [],
      "source": []
    },
    {
      "cell_type": "markdown",
      "metadata": {
        "id": "jHMnFxpMQ4Ia"
      },
      "source": [
        "## Fetch name of highest Overtime pay employee\n"
      ]
    },
    {
      "cell_type": "code",
      "execution_count": null,
      "metadata": {
        "id": "_K6MLlnnQ4Ia"
      },
      "outputs": [],
      "source": []
    },
    {
      "cell_type": "markdown",
      "metadata": {
        "id": "SPcdaWH7Q4Ia"
      },
      "source": [
        "# ** What is the job title of  JOSEPH DRISCOLL ? Note: Use all caps, otherwise you may get an answer that doesn't match up (there is also a lowercase Joseph Driscoll). **"
      ]
    },
    {
      "cell_type": "code",
      "execution_count": null,
      "metadata": {
        "id": "Y6dgSBA8Q4Ia"
      },
      "outputs": [],
      "source": []
    },
    {
      "cell_type": "markdown",
      "metadata": {
        "id": "Q0F7nx4KQ4Ia"
      },
      "source": [
        "# ** How much does JOSEPH DRISCOLL make (including benefits)? **"
      ]
    },
    {
      "cell_type": "code",
      "execution_count": null,
      "metadata": {
        "id": "Iyro8u7DQ4Ib"
      },
      "outputs": [],
      "source": []
    },
    {
      "cell_type": "markdown",
      "metadata": {
        "id": "8O7z0mfeQ4Ib"
      },
      "source": [
        "# ** What is the name, Job title of highest paid person (including benefits)?**"
      ]
    },
    {
      "cell_type": "code",
      "execution_count": null,
      "metadata": {
        "id": "r2U2-pPaQ4Ib"
      },
      "outputs": [],
      "source": []
    },
    {
      "cell_type": "markdown",
      "metadata": {
        "id": "ylU7cQAfQ4Ib"
      },
      "source": [
        "# ** What is the name of lowest paid person (including benefits)? Do you notice something strange about how much he or she is paid?**"
      ]
    },
    {
      "cell_type": "code",
      "execution_count": null,
      "metadata": {
        "scrolled": true,
        "id": "gK6VqhAXQ4Ib"
      },
      "outputs": [],
      "source": []
    },
    {
      "cell_type": "markdown",
      "metadata": {
        "id": "2sBAJ5FDQ4Ib"
      },
      "source": [
        "## Show me the records with totalpaybenefit less than or equal to 0\n"
      ]
    },
    {
      "cell_type": "code",
      "execution_count": null,
      "metadata": {
        "id": "LvxRhZHAQ4Ib"
      },
      "outputs": [],
      "source": []
    },
    {
      "cell_type": "markdown",
      "metadata": {
        "id": "qIUuIA04Q4Ic"
      },
      "source": [
        "# ** What was the average (mean) BasePay of all employees per year? (2011-2014) ? **"
      ]
    },
    {
      "cell_type": "code",
      "execution_count": null,
      "metadata": {
        "scrolled": true,
        "id": "4bz-0QnYQ4Ic"
      },
      "outputs": [],
      "source": [
        "# Yearwise Average BasePay\n"
      ]
    },
    {
      "cell_type": "markdown",
      "metadata": {
        "id": "kDEDkFtYQ4Ic"
      },
      "source": [
        "# ** How many unique job titles are there? **"
      ]
    },
    {
      "cell_type": "code",
      "execution_count": null,
      "metadata": {
        "id": "6Wel9ndOQ4Ic"
      },
      "outputs": [],
      "source": []
    },
    {
      "cell_type": "markdown",
      "metadata": {
        "id": "8QnxpZhmQ4Ic"
      },
      "source": [
        "# ** What are the top 5 most common jobs? **"
      ]
    },
    {
      "cell_type": "code",
      "execution_count": null,
      "metadata": {
        "scrolled": true,
        "id": "WPbE8Bv8Q4Ic"
      },
      "outputs": [],
      "source": []
    },
    {
      "cell_type": "code",
      "execution_count": null,
      "metadata": {
        "id": "-5ApkLoHQ4Ic"
      },
      "outputs": [],
      "source": [
        "# last five\n"
      ]
    },
    {
      "cell_type": "markdown",
      "metadata": {
        "id": "lKYgAYh2Q4Ij"
      },
      "source": [
        "# How many are there those work as a POLICE OFFICER III"
      ]
    },
    {
      "cell_type": "code",
      "execution_count": null,
      "metadata": {
        "id": "KFVUm5JMQ4Ij"
      },
      "outputs": [],
      "source": []
    },
    {
      "cell_type": "markdown",
      "metadata": {
        "id": "YJXKqYk8Q4Ij"
      },
      "source": [
        "# In which department we have least employees?"
      ]
    },
    {
      "cell_type": "code",
      "execution_count": null,
      "metadata": {
        "id": "YRqTxRTTQ4Ik"
      },
      "outputs": [],
      "source": []
    },
    {
      "cell_type": "markdown",
      "metadata": {
        "id": "erdFvZhuQ4Ik"
      },
      "source": [
        "# Fetch record of year 2011 where Basepay 200000"
      ]
    },
    {
      "cell_type": "code",
      "execution_count": null,
      "metadata": {
        "id": "HW5E-9g0Q4Ik"
      },
      "outputs": [],
      "source": []
    },
    {
      "cell_type": "markdown",
      "metadata": {
        "id": "-0KMIj8zQ4Ik"
      },
      "source": [
        "# How much average basepay is given to employees inthe year 2013"
      ]
    },
    {
      "cell_type": "code",
      "execution_count": null,
      "metadata": {
        "id": "5_yAALMiQ4Ik"
      },
      "outputs": [],
      "source": []
    },
    {
      "cell_type": "markdown",
      "metadata": {
        "id": "il7lJxEgQ4Ik"
      },
      "source": [
        "# Plot.the % distribustion of Yearwise TotalPay"
      ]
    },
    {
      "cell_type": "code",
      "execution_count": null,
      "metadata": {
        "id": "Iub60edaQ4Ik"
      },
      "outputs": [],
      "source": []
    },
    {
      "cell_type": "markdown",
      "metadata": {
        "id": "M-b5NKXhQ4Il"
      },
      "source": [
        "# How many employees getting 0 overtimePay?"
      ]
    },
    {
      "cell_type": "code",
      "execution_count": null,
      "metadata": {
        "id": "qTGT6VPjQ4Il"
      },
      "outputs": [],
      "source": []
    },
    {
      "cell_type": "markdown",
      "metadata": {
        "id": "Nc1Ph3EwQ4Il"
      },
      "source": [
        "## Load data from Github"
      ]
    },
    {
      "cell_type": "code",
      "execution_count": null,
      "metadata": {
        "id": "Koj87JkMQ4Il"
      },
      "outputs": [],
      "source": []
    }
  ],
  "metadata": {
    "kernelspec": {
      "display_name": "Python 3 (ipykernel)",
      "language": "python",
      "name": "python3"
    },
    "language_info": {
      "codemirror_mode": {
        "name": "ipython",
        "version": 3
      },
      "file_extension": ".py",
      "mimetype": "text/x-python",
      "name": "python",
      "nbconvert_exporter": "python",
      "pygments_lexer": "ipython3",
      "version": "3.9.7"
    },
    "colab": {
      "provenance": []
    }
  },
  "nbformat": 4,
  "nbformat_minor": 0
}